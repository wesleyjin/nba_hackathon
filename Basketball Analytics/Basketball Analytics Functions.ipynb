{
 "cells": [
  {
   "cell_type": "code",
   "execution_count": 1,
   "metadata": {
    "collapsed": true
   },
   "outputs": [],
   "source": [
    "import sqlite3\n",
    "import pandas as pd\n",
    "import matplotlib.pyplot as plt\n",
    "import seaborn as sns\n",
    "%matplotlib inline\n",
    "\n",
    "# Connect to db\n",
    "connection = sqlite3.connect('analytics_track.db')\n",
    "cursor = connection.cursor()"
   ]
  },
  {
   "cell_type": "code",
   "execution_count": 2,
   "metadata": {
    "collapsed": true
   },
   "outputs": [],
   "source": [
    "def run_query(qry):\n",
    "    return pd.read_sql_query(qry, connection)"
   ]
  },
  {
   "cell_type": "markdown",
   "metadata": {},
   "source": [
    "Tables:\n",
    "* event_codes (Event_Msg_Type, Action_Type, Event_Msg_Type_Description, Action_Type_Description)\n",
    "* game_lineup (Game_id,Period, Person_id, Team_id, status)\n",
    "* play_by_play (Game_id, Event_Num, Event_Msg_Type, Period, WC_Time, PC_Time, Action_Type, Option1, Option2, Option3, Team_id, Person1, Person2,Team_id_type)"
   ]
  },
  {
   "cell_type": "markdown",
   "metadata": {},
   "source": [
    "## Explore data from first game: \n",
    "Game_id = 021fd159b55773fba8157e2090fe0fe2"
   ]
  },
  {
   "cell_type": "code",
   "execution_count": 3,
   "metadata": {
    "scrolled": true
   },
   "outputs": [
    {
     "data": {
      "text/html": [
       "<div>\n",
       "<style>\n",
       "    .dataframe thead tr:only-child th {\n",
       "        text-align: right;\n",
       "    }\n",
       "\n",
       "    .dataframe thead th {\n",
       "        text-align: left;\n",
       "    }\n",
       "\n",
       "    .dataframe tbody tr th {\n",
       "        vertical-align: top;\n",
       "    }\n",
       "</style>\n",
       "<table border=\"1\" class=\"dataframe\">\n",
       "  <thead>\n",
       "    <tr style=\"text-align: right;\">\n",
       "      <th></th>\n",
       "      <th>Game_id</th>\n",
       "      <th>Period</th>\n",
       "      <th>Person_id</th>\n",
       "      <th>Team_id</th>\n",
       "      <th>status</th>\n",
       "    </tr>\n",
       "  </thead>\n",
       "  <tbody>\n",
       "    <tr>\n",
       "      <th>0</th>\n",
       "      <td>021fd159b55773fba8157e2090fe0fe2</td>\n",
       "      <td>1</td>\n",
       "      <td>881f83d2dee3f18c7d1751659406144e</td>\n",
       "      <td>012059d397c0b7e5a30a5bb89c0b075e</td>\n",
       "      <td>A</td>\n",
       "    </tr>\n",
       "    <tr>\n",
       "      <th>3</th>\n",
       "      <td>021fd159b55773fba8157e2090fe0fe2</td>\n",
       "      <td>1</td>\n",
       "      <td>cec898a1d355dbfbad8c760615fde1af</td>\n",
       "      <td>012059d397c0b7e5a30a5bb89c0b075e</td>\n",
       "      <td>A</td>\n",
       "    </tr>\n",
       "    <tr>\n",
       "      <th>5</th>\n",
       "      <td>021fd159b55773fba8157e2090fe0fe2</td>\n",
       "      <td>1</td>\n",
       "      <td>a99f44bbff39e352191a870e17f04537</td>\n",
       "      <td>012059d397c0b7e5a30a5bb89c0b075e</td>\n",
       "      <td>A</td>\n",
       "    </tr>\n",
       "    <tr>\n",
       "      <th>7</th>\n",
       "      <td>021fd159b55773fba8157e2090fe0fe2</td>\n",
       "      <td>1</td>\n",
       "      <td>89706b99ddd00dc05d37ef5cafc04276</td>\n",
       "      <td>012059d397c0b7e5a30a5bb89c0b075e</td>\n",
       "      <td>A</td>\n",
       "    </tr>\n",
       "    <tr>\n",
       "      <th>8</th>\n",
       "      <td>021fd159b55773fba8157e2090fe0fe2</td>\n",
       "      <td>1</td>\n",
       "      <td>2b313e2bcef0268bc8e9415132ba9997</td>\n",
       "      <td>012059d397c0b7e5a30a5bb89c0b075e</td>\n",
       "      <td>A</td>\n",
       "    </tr>\n",
       "  </tbody>\n",
       "</table>\n",
       "</div>"
      ],
      "text/plain": [
       "                            Game_id  Period                         Person_id  \\\n",
       "0  021fd159b55773fba8157e2090fe0fe2       1  881f83d2dee3f18c7d1751659406144e   \n",
       "3  021fd159b55773fba8157e2090fe0fe2       1  cec898a1d355dbfbad8c760615fde1af   \n",
       "5  021fd159b55773fba8157e2090fe0fe2       1  a99f44bbff39e352191a870e17f04537   \n",
       "7  021fd159b55773fba8157e2090fe0fe2       1  89706b99ddd00dc05d37ef5cafc04276   \n",
       "8  021fd159b55773fba8157e2090fe0fe2       1  2b313e2bcef0268bc8e9415132ba9997   \n",
       "\n",
       "                            Team_id status  \n",
       "0  012059d397c0b7e5a30a5bb89c0b075e      A  \n",
       "3  012059d397c0b7e5a30a5bb89c0b075e      A  \n",
       "5  012059d397c0b7e5a30a5bb89c0b075e      A  \n",
       "7  012059d397c0b7e5a30a5bb89c0b075e      A  \n",
       "8  012059d397c0b7e5a30a5bb89c0b075e      A  "
      ]
     },
     "execution_count": 3,
     "metadata": {},
     "output_type": "execute_result"
    }
   ],
   "source": [
    "game1_lineup = run_query(\"SELECT * from game_lineup WHERE Game_id = '021fd159b55773fba8157e2090fe0fe2'\")\n",
    "game1_lineup.sort_values(by = ['Team_id', 'Period']).drop('index', axis=1).head()"
   ]
  },
  {
   "cell_type": "code",
   "execution_count": 4,
   "metadata": {},
   "outputs": [
    {
     "data": {
      "text/html": [
       "<div>\n",
       "<style>\n",
       "    .dataframe thead tr:only-child th {\n",
       "        text-align: right;\n",
       "    }\n",
       "\n",
       "    .dataframe thead th {\n",
       "        text-align: left;\n",
       "    }\n",
       "\n",
       "    .dataframe tbody tr th {\n",
       "        vertical-align: top;\n",
       "    }\n",
       "</style>\n",
       "<table border=\"1\" class=\"dataframe\">\n",
       "  <thead>\n",
       "    <tr style=\"text-align: right;\">\n",
       "      <th></th>\n",
       "      <th>Period</th>\n",
       "      <th>PC_Time</th>\n",
       "      <th>WC_Time</th>\n",
       "      <th>Event_Num</th>\n",
       "      <th>Event_Msg_Type</th>\n",
       "      <th>Action_Type</th>\n",
       "      <th>Event_Msg_Type_Description</th>\n",
       "      <th>Action_Type_Description</th>\n",
       "      <th>Option1</th>\n",
       "      <th>Option2</th>\n",
       "      <th>Team_id</th>\n",
       "      <th>Person1</th>\n",
       "      <th>Person2</th>\n",
       "    </tr>\n",
       "  </thead>\n",
       "  <tbody>\n",
       "    <tr>\n",
       "      <th>0</th>\n",
       "      <td>1</td>\n",
       "      <td>7200</td>\n",
       "      <td>546427</td>\n",
       "      <td>0</td>\n",
       "      <td>12</td>\n",
       "      <td>0</td>\n",
       "      <td>Start Period</td>\n",
       "      <td></td>\n",
       "      <td>0</td>\n",
       "      <td>0</td>\n",
       "      <td>1473d70e5646a26de3c52aa1abd85b1f</td>\n",
       "      <td>6bcf6c1f8c373d25fca1579bc4464a91</td>\n",
       "      <td>6bcf6c1f8c373d25fca1579bc4464a91</td>\n",
       "    </tr>\n",
       "    <tr>\n",
       "      <th>1</th>\n",
       "      <td>1</td>\n",
       "      <td>7200</td>\n",
       "      <td>546495</td>\n",
       "      <td>1</td>\n",
       "      <td>10</td>\n",
       "      <td>0</td>\n",
       "      <td>Jump Ball</td>\n",
       "      <td></td>\n",
       "      <td>0</td>\n",
       "      <td>0</td>\n",
       "      <td>012059d397c0b7e5a30a5bb89c0b075e</td>\n",
       "      <td>89706b99ddd00dc05d37ef5cafc04276</td>\n",
       "      <td>307beab25b1021a548b4a47550bc4b25</td>\n",
       "    </tr>\n",
       "    <tr>\n",
       "      <th>2</th>\n",
       "      <td>1</td>\n",
       "      <td>7050</td>\n",
       "      <td>546665</td>\n",
       "      <td>2</td>\n",
       "      <td>2</td>\n",
       "      <td>1</td>\n",
       "      <td>Missed Shot</td>\n",
       "      <td>Jump Shot</td>\n",
       "      <td>3</td>\n",
       "      <td>0</td>\n",
       "      <td>012059d397c0b7e5a30a5bb89c0b075e</td>\n",
       "      <td>cec898a1d355dbfbad8c760615fde1af</td>\n",
       "      <td>6bcf6c1f8c373d25fca1579bc4464a91</td>\n",
       "    </tr>\n",
       "    <tr>\n",
       "      <th>3</th>\n",
       "      <td>1</td>\n",
       "      <td>6960</td>\n",
       "      <td>546714</td>\n",
       "      <td>3</td>\n",
       "      <td>4</td>\n",
       "      <td>0</td>\n",
       "      <td>Rebound</td>\n",
       "      <td>Unknown</td>\n",
       "      <td>0</td>\n",
       "      <td>0</td>\n",
       "      <td>012059d397c0b7e5a30a5bb89c0b075e</td>\n",
       "      <td>307beab25b1021a548b4a47550bc4b25</td>\n",
       "      <td>6bcf6c1f8c373d25fca1579bc4464a91</td>\n",
       "    </tr>\n",
       "    <tr>\n",
       "      <th>4</th>\n",
       "      <td>1</td>\n",
       "      <td>6920</td>\n",
       "      <td>546886</td>\n",
       "      <td>6</td>\n",
       "      <td>6</td>\n",
       "      <td>4</td>\n",
       "      <td>Foul</td>\n",
       "      <td>Offensive</td>\n",
       "      <td>0</td>\n",
       "      <td>0</td>\n",
       "      <td>cff694c8186a4bd377de400e4f60fe47</td>\n",
       "      <td>c00264c3114d23bac482e9de50fb7d28</td>\n",
       "      <td>89706b99ddd00dc05d37ef5cafc04276</td>\n",
       "    </tr>\n",
       "  </tbody>\n",
       "</table>\n",
       "</div>"
      ],
      "text/plain": [
       "   Period  PC_Time  WC_Time  Event_Num  Event_Msg_Type  Action_Type  \\\n",
       "0       1     7200   546427          0              12            0   \n",
       "1       1     7200   546495          1              10            0   \n",
       "2       1     7050   546665          2               2            1   \n",
       "3       1     6960   546714          3               4            0   \n",
       "4       1     6920   546886          6               6            4   \n",
       "\n",
       "  Event_Msg_Type_Description Action_Type_Description  Option1  Option2  \\\n",
       "0               Start Period                                0        0   \n",
       "1                  Jump Ball                                0        0   \n",
       "2                Missed Shot               Jump Shot        3        0   \n",
       "3                    Rebound                 Unknown        0        0   \n",
       "4                       Foul               Offensive        0        0   \n",
       "\n",
       "                            Team_id                           Person1  \\\n",
       "0  1473d70e5646a26de3c52aa1abd85b1f  6bcf6c1f8c373d25fca1579bc4464a91   \n",
       "1  012059d397c0b7e5a30a5bb89c0b075e  89706b99ddd00dc05d37ef5cafc04276   \n",
       "2  012059d397c0b7e5a30a5bb89c0b075e  cec898a1d355dbfbad8c760615fde1af   \n",
       "3  012059d397c0b7e5a30a5bb89c0b075e  307beab25b1021a548b4a47550bc4b25   \n",
       "4  cff694c8186a4bd377de400e4f60fe47  c00264c3114d23bac482e9de50fb7d28   \n",
       "\n",
       "                            Person2  \n",
       "0  6bcf6c1f8c373d25fca1579bc4464a91  \n",
       "1  307beab25b1021a548b4a47550bc4b25  \n",
       "2  6bcf6c1f8c373d25fca1579bc4464a91  \n",
       "3  6bcf6c1f8c373d25fca1579bc4464a91  \n",
       "4  89706b99ddd00dc05d37ef5cafc04276  "
      ]
     },
     "execution_count": 4,
     "metadata": {},
     "output_type": "execute_result"
    }
   ],
   "source": [
    "qry = \"\"\"\n",
    "SELECT Period, PC_Time, WC_Time, Event_Num, p.Event_Msg_Type, p.Action_Type, Event_Msg_Type_Description,\n",
    "       Action_Type_Description, Option1, Option2, Team_id, Person1, Person2\n",
    "FROM play_by_play p \n",
    "INNER JOIN event_codes e ON p.Event_Msg_Type = e.Event_Msg_Type AND p.Action_Type = e.Action_Type\n",
    "WHERE p.Game_id = '021fd159b55773fba8157e2090fe0fe2'\n",
    "ORDER BY Period asc, PC_Time desc, WC_Time asc, Event_Num asc\n",
    "\"\"\"\n",
    "game1_plays = run_query(qry)\n",
    "game1_plays.head()"
   ]
  },
  {
   "cell_type": "markdown",
   "metadata": {},
   "source": [
    "## Notes about Data\n",
    "\n",
    "* Event associated with neither team at the start of every game:\n",
    "    * Event_Msg_type = 12, which signals start of the game.\n",
    "    * Team_id_type = 0 & Team_id = 1473d70e5646a26de3c52aa1abd85b1f\n",
    "    \n",
    "* None values for Player Column:\n",
    "    * Player_id = 6bcf6c1f8c373d25fca1579bc4464a91\t"
   ]
  },
  {
   "cell_type": "code",
   "execution_count": 5,
   "metadata": {
    "collapsed": true
   },
   "outputs": [],
   "source": [
    "# first = run_query(\"SELECT * from play_by_play WHERE Team_id_type = 0\")\n",
    "# first = run_query(\"SELECT * from play_by_play WHERE Team_id = '1473d70e5646a26de3c52aa1abd85b1f'\")\n",
    "# first"
   ]
  },
  {
   "cell_type": "markdown",
   "metadata": {},
   "source": [
    "# Game Class & Game Simulator:"
   ]
  },
  {
   "cell_type": "code",
   "execution_count": 6,
   "metadata": {
    "collapsed": true
   },
   "outputs": [],
   "source": [
    "from collections import deque"
   ]
  },
  {
   "cell_type": "code",
   "execution_count": 7,
   "metadata": {
    "collapsed": true
   },
   "outputs": [],
   "source": [
    "class Game:\n",
    "           \n",
    "    # Initialize a new game object with: GameID, & TeamID's\n",
    "    def __init__(self, game_id, team1_id, team2_id):\n",
    "        self.game = game_id\n",
    "        self.team1 = team1_id\n",
    "        self.team2 = team2_id \n",
    "        self.team1_score = 0\n",
    "        self.team2_score = 0\n",
    "\n",
    "        # Dictionary with Player_id:Active Status\n",
    "        self.team1_active = {}\n",
    "        self.team2_active = {}\n",
    "\n",
    "        # Dictionary with Player_id:Plus/Minus\n",
    "        self.team1_pm = {}\n",
    "        self.team2_pm = {}\n",
    "\n",
    "    ### Update Plus/Minus stats and score:  ###\n",
    "    \n",
    "    def update_score(self, team_id, points):\n",
    "        # Plus/Minus points relative to TEAM 1\n",
    "        if team_id == self.team1:\n",
    "            self.team1_score += points\n",
    "            pm = points\n",
    "        elif team_id == self.team2:\n",
    "            self.team2_score += points\n",
    "            pm = -points\n",
    "            \n",
    "        for player, active in self.team1_active.items():\n",
    "            if active:\n",
    "                try:\n",
    "                    self.team1_pm[player] += pm\n",
    "                except KeyError:\n",
    "                    self.team1_pm[player] = pm\n",
    "\n",
    "        for player, active in self.team2_active.items():\n",
    "            if active:\n",
    "                try:\n",
    "                    self.team2_pm[player] -= pm\n",
    "                except KeyError:\n",
    "                    self.team2_pm[player] = -pm           \n",
    "\n",
    "    ### Updating active players ###       \n",
    "    \n",
    "    def get_starter(self, team_id, period):\n",
    "        ### Gets the starting 5 for each quarter ###\n",
    "        ### Returns iterable ###\n",
    "        df = run_query(\"SELECT Person_id FROM game_lineup WHERE Game_id='{}' AND Team_id='{}' AND Period={}\".format(self.game,team_id,period))\n",
    "        return df.Person_id\n",
    "    \n",
    "    def start_period(self, period):\n",
    "        tm1_starters = self.get_starter(self.team1, period)\n",
    "        tm2_starters = self.get_starter(self.team2, period)\n",
    "        for player in tm1_starters:\n",
    "            self.team1_active[player] = True\n",
    "        for player in tm2_starters:\n",
    "            self.team2_active[player] = True\n",
    "            \n",
    "    def end_period(self):\n",
    "        for player in self.team1_active:\n",
    "            self.team1_active[player] = False\n",
    "        for player in self.team2_active:\n",
    "            self.team2_active[player] = False            \n",
    "        \n",
    "    def make_substitution(self,leaving, entering):\n",
    "        ### Changes the active state of the leaving and entering players.\n",
    "        ### Checks the active players sets instead of TeamID provided because\n",
    "        ### original dataset is inconsistent for that field.\n",
    "        if leaving in self.team1_active.keys():\n",
    "            self.team1_active[leaving] = False\n",
    "            self.team1_active[entering] = True\n",
    "        elif leaving in self.team2_active.keys():\n",
    "            self.team2_active[leaving] = False\n",
    "            self.team2_active[entering] = True\n",
    "        else:\n",
    "            print('ERROR: Player', leaving, \"not found on either team found.\")\n",
    "\n",
    "    def get_plusminus(self):\n",
    "        return [self.team1_pm, self.team2_pm]"
   ]
  },
  {
   "cell_type": "markdown",
   "metadata": {},
   "source": [
    "### Query to get play-by-play for a specific GameID:"
   ]
  },
  {
   "cell_type": "code",
   "execution_count": 8,
   "metadata": {
    "collapsed": true
   },
   "outputs": [],
   "source": [
    "plays_query = \"\"\"\n",
    "SELECT Period, PC_Time, WC_Time, Event_Num, p.Event_Msg_Type, p.Action_Type, Event_Msg_Type_Description,\n",
    "       Action_Type_Description, Option1, Option2, Team_id, Person1, Person2\n",
    "FROM play_by_play p \n",
    "INNER JOIN event_codes e \n",
    "    ON p.Event_Msg_Type = e.Event_Msg_Type \n",
    "    AND p.Action_Type = e.Action_Type\n",
    "WHERE p.Game_id = '{}'\n",
    "ORDER BY Period asc, PC_Time desc, WC_Time asc, Event_Num asc;\n",
    "\"\"\""
   ]
  },
  {
   "cell_type": "markdown",
   "metadata": {},
   "source": [
    "### Game simulator that reads the table above and updates the stats:"
   ]
  },
  {
   "cell_type": "code",
   "execution_count": 9,
   "metadata": {},
   "outputs": [],
   "source": [
    "def game_simulation(game_id):\n",
    "    teams_list = run_query(\"SELECT distinct Team_id from game_lineup WHERE Game_id = '{}'\".format(game_id)).Team_id\n",
    "    game = Game(game_id, teams_list[0], teams_list[1])\n",
    "    play_by_play = run_query(plays_query.format(game_id))\n",
    "    \n",
    "    # To keep track of fouls/and subs for special case:\n",
    "    foul_state = False\n",
    "    foul_time = 0\n",
    "    sub_queue = deque([])\n",
    "    \n",
    "    for play in play_by_play.itertuples():\n",
    "        event_type = play.Event_Msg_Type\n",
    "                       \n",
    "        if foul_state:\n",
    "            if event_type not in [3,8,9] and play.PC_Time != foul_time:  # If action after foul is not a free throw or substitution\n",
    "                while len(sub_queue) > 0:   # make the substitutions (after PM was updated)\n",
    "                    sub = sub_queue.popleft()\n",
    "                    game.make_substitution(sub[0], sub[1])\n",
    "                foul_state = False\n",
    "            elif event_type == 8:   # Substitution\n",
    "                sub_queue.append((play.Person1, play.Person2))\n",
    "                continue\n",
    "                \n",
    "        if event_type in [2, 4, 5, 7, 9, 10, 11]:\n",
    "        # Ignore Missed Shot, Rebound, Turnover, Violation, Timeout, JumpBall\n",
    "            continue\n",
    "            \n",
    "        elif event_type == 12:  # Start Period\n",
    "            game.start_period(play.Period)\n",
    "            print('Start period', play.Period)\n",
    "            \n",
    "        elif event_type == 13:  # End Period\n",
    "            game.end_period()\n",
    "            print('End of Period', play.Period)\n",
    "            print('.......... Score:', game.team1_score, '-', game.team2_score)\n",
    "            \n",
    "        elif event_type == 1:  # Made Shot\n",
    "            game.update_score(play.Team_id, play.Option1)\n",
    "            \n",
    "        elif event_type == 3:  # Free Throw\n",
    "            if play.Option1 == 1:\n",
    "                game.update_score(play.Team_id, play.Option1)\n",
    "                \n",
    "        elif event_type == 6:  # Foul\n",
    "            foul_state = True\n",
    "            foul_time = play.PC_Time\n",
    "\n",
    "        elif event_type == 8:  # Substitution\n",
    "            game.make_substitution(play.Person1, play.Person2)\n",
    "            \n",
    "    return game"
   ]
  },
  {
   "cell_type": "code",
   "execution_count": 10,
   "metadata": {},
   "outputs": [
    {
     "name": "stdout",
     "output_type": "stream",
     "text": [
      "Start period 1\n",
      "End of Period 1\n",
      ".......... Score: 29 - 16\n",
      "Start period 2\n",
      "End of Period 2\n",
      ".......... Score: 57 - 42\n",
      "Start period 3\n",
      "End of Period 3\n",
      ".......... Score: 79 - 68\n",
      "Start period 4\n",
      "End of Period 4\n",
      ".......... Score: 93 - 91\n"
     ]
    }
   ],
   "source": [
    "g2 = game_simulation('021fd159b55773fba8157e2090fe0fe2')"
   ]
  },
  {
   "cell_type": "markdown",
   "metadata": {},
   "source": [
    "## Tests to make sure functions are working:"
   ]
  },
  {
   "cell_type": "code",
   "execution_count": 11,
   "metadata": {},
   "outputs": [
    {
     "ename": "NameError",
     "evalue": "name 'g1' is not defined",
     "output_type": "error",
     "traceback": [
      "\u001b[1;31m---------------------------------------------------------------------------\u001b[0m",
      "\u001b[1;31mNameError\u001b[0m                                 Traceback (most recent call last)",
      "\u001b[1;32m<ipython-input-11-ff35567a3871>\u001b[0m in \u001b[0;36m<module>\u001b[1;34m()\u001b[0m\n\u001b[1;32m----> 1\u001b[1;33m \u001b[0mprint\u001b[0m\u001b[1;33m(\u001b[0m\u001b[0mg2\u001b[0m\u001b[1;33m.\u001b[0m\u001b[0mteam1_score\u001b[0m\u001b[1;33m,\u001b[0m \u001b[0mg1\u001b[0m\u001b[1;33m.\u001b[0m\u001b[0mteam2_score\u001b[0m\u001b[1;33m)\u001b[0m\u001b[1;33m\u001b[0m\u001b[0m\n\u001b[0m",
      "\u001b[1;31mNameError\u001b[0m: name 'g1' is not defined"
     ]
    }
   ],
   "source": [
    "print(g2.team1_score, g2.team2_score)"
   ]
  },
  {
   "cell_type": "code",
   "execution_count": 13,
   "metadata": {},
   "outputs": [
    {
     "name": "stdout",
     "output_type": "stream",
     "text": [
      "{'881f83d2dee3f18c7d1751659406144e': False, 'cec898a1d355dbfbad8c760615fde1af': False, 'a99f44bbff39e352191a870e17f04537': False, '89706b99ddd00dc05d37ef5cafc04276': False, '2b313e2bcef0268bc8e9415132ba9997': False, 'd6bc5eb6ed54c734628cb4d237f99031': False, '1362d9ad805e7cc4ea3a9467c91142d6': False, 'b2fada91a0c8a0f400623c425286ae2e': False, '2d9594e4d250679e7a3383ad5ccd2f44': False, '314c71574689f752c17b83cd6a4d770e': False} {'27ea17a8685c4919f157e83fe9cb2d9e': False, '57bbd7e30bc694aeee9ee40c583e6811': False, '33963fe856a1523ff46438ba07d1d99f': False, 'c00264c3114d23bac482e9de50fb7d28': False, '307beab25b1021a548b4a47550bc4b25': False, '603daefb2fa321f3abab289805fdcc25': False, '60b5f9f68ccbbf7ba3fa13a2189e2775': False, 'c1fe6ed491d04e3cdf50755dff23b263': False, '8bb18fb1d0cc10c985afa823ecec6d18': False}\n"
     ]
    }
   ],
   "source": [
    "print(g2.team1_active, g2.team2_active)"
   ]
  },
  {
   "cell_type": "code",
   "execution_count": 74,
   "metadata": {},
   "outputs": [
    {
     "data": {
      "text/plain": [
       "{}"
      ]
     },
     "execution_count": 74,
     "metadata": {},
     "output_type": "execute_result"
    }
   ],
   "source": [
    "g2.team1_pm"
   ]
  },
  {
   "cell_type": "markdown",
   "metadata": {
    "collapsed": true
   },
   "source": [
    "## Research to see if this game data matches any real scores:\n",
    "Sixers vs Timberwolves 1/3/2017\n",
    "\n",
    "https://www.google.com/search?q=sixers+timberwolves+1%2F3%2F2017&oq=sixers+timberwolves+1%2F3%2F2017&aqs=chrome..69i57.7643j0j7&sourceid=chrome&ie=UTF-8\n",
    "\n"
   ]
  }
 ],
 "metadata": {
  "kernelspec": {
   "display_name": "Python 3",
   "language": "python",
   "name": "python3"
  },
  "language_info": {
   "codemirror_mode": {
    "name": "ipython",
    "version": 3
   },
   "file_extension": ".py",
   "mimetype": "text/x-python",
   "name": "python",
   "nbconvert_exporter": "python",
   "pygments_lexer": "ipython3",
   "version": "3.6.1"
  }
 },
 "nbformat": 4,
 "nbformat_minor": 2
}
